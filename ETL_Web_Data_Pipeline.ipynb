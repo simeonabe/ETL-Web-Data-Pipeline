{
  "nbformat": 4,
  "nbformat_minor": 0,
  "metadata": {
    "colab": {
      "provenance": []
    },
    "kernelspec": {
      "name": "python3",
      "display_name": "Python 3"
    },
    "language_info": {
      "name": "python"
    }
  },
  "cells": [
    {
      "cell_type": "code",
      "execution_count": 1,
      "metadata": {
        "id": "uYw6sQRFSNCg",
        "colab": {
          "base_uri": "https://localhost:8080/"
        },
        "outputId": "dc0742c1-5f3c-4161-ddd6-772730b3b649"
      },
      "outputs": [
        {
          "output_type": "stream",
          "name": "stderr",
          "text": [
            "[nltk_data] Downloading package stopwords to /root/nltk_data...\n",
            "[nltk_data]   Package stopwords is already up-to-date!\n"
          ]
        },
        {
          "output_type": "execute_result",
          "data": {
            "text/plain": [
              "True"
            ]
          },
          "metadata": {},
          "execution_count": 1
        }
      ],
      "source": [
        "import requests\n",
        "from bs4 import BeautifulSoup\n",
        "from nltk.corpus import stopwords\n",
        "from collections import Counter\n",
        "import pandas as pd\n",
        "import nltk\n",
        "nltk.download('stopwords')"
      ]
    },
    {
      "cell_type": "code",
      "source": [
        "class WebScraper:\n",
        "    def __init__(self, url):\n",
        "        self.url = url\n",
        "\n",
        "    def extract_article_text(self):\n",
        "        response = requests.get(self.url)\n",
        "        html_content = response.content\n",
        "        soup = BeautifulSoup(html_content, \"html.parser\")\n",
        "        article_text = soup.get_text()\n",
        "        return article_text"
      ],
      "metadata": {
        "id": "-9wYKdn1arFS"
      },
      "execution_count": 2,
      "outputs": []
    },
    {
      "cell_type": "code",
      "source": [
        "class TextProcessor:\n",
        "    def __init__(self, nltk_stopwords):\n",
        "        self.nltk_stopwords = nltk_stopwords\n",
        "\n",
        "    def tokenize_and_clean(self, text):\n",
        "        words = text.split()\n",
        "        filtered_words = [word.lower() for word in words if word.isalpha() and word.lower() not in self.nltk_stopwords]\n",
        "        return filtered_words"
      ],
      "metadata": {
        "id": "leoQs5LYa2ZT"
      },
      "execution_count": 3,
      "outputs": []
    },
    {
      "cell_type": "code",
      "source": [
        "class ETLPipeline:\n",
        "    def __init__(self, url):\n",
        "        self.url = url\n",
        "        self.nltk_stopwords = set(stopwords.words(\"english\"))\n",
        "\n",
        "    def run(self):\n",
        "        scraper = WebScraper(self.url)\n",
        "        article_text = scraper.extract_article_text()\n",
        "\n",
        "        processor = TextProcessor(self.nltk_stopwords)\n",
        "        filtered_words = processor.tokenize_and_clean(article_text)\n",
        "\n",
        "        word_freq = Counter(filtered_words)\n",
        "        df = pd.DataFrame(word_freq.items(), columns=[\"Words\", \"Frequencies\"])\n",
        "        df = df.sort_values(by=\"Frequencies\", ascending=False)\n",
        "        return df"
      ],
      "metadata": {
        "id": "FJrpbVDza79q"
      },
      "execution_count": 4,
      "outputs": []
    },
    {
      "cell_type": "code",
      "source": [
        "if __name__ == \"__main__\":\n",
        "    article_url = \"https://www.cloudbites.ai/p/3-ways-to-document-your-aws-cloud-projects\"\n",
        "    pipeline = ETLPipeline(article_url)\n",
        "    result_df = pipeline.run()\n",
        "    print(result_df.head())"
      ],
      "metadata": {
        "colab": {
          "base_uri": "https://localhost:8080/"
        },
        "id": "xl2agmYkbAbQ",
        "outputId": "5b8f83bf-3d1c-4150-d1c6-cb2abfde5f9b"
      },
      "execution_count": 5,
      "outputs": [
        {
          "output_type": "stream",
          "name": "stdout",
          "text": [
            "         Words  Frequencies\n",
            "1   cloudflare            4\n",
            "9     security            3\n",
            "2       please            2\n",
            "37         ray            2\n",
            "33        know            1\n"
          ]
        }
      ]
    },
    {
      "cell_type": "code",
      "source": [],
      "metadata": {
        "id": "556kw9JFcvjN"
      },
      "execution_count": 5,
      "outputs": []
    }
  ]
}